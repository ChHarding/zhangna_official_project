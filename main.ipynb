{
 "cells": [
  {
   "cell_type": "code",
   "execution_count": 9,
   "metadata": {},
   "outputs": [
    {
     "name": "stdout",
     "output_type": "stream",
     "text": [
      "searched for apple\n",
      "best match:Apple, 30, 80.0\n",
      "The food Apple has 26.0 kcal for 50.0 grams.\n",
      "searched for banana\n",
      "best match:Banana, 34, 83.33333333333333\n",
      "The food Banana has 89.0 kcal for 100 grams.\n"
     ]
    }
   ],
   "source": [
    "# A command line interface(CLI) for searching the calories.csv file\n",
    "import pandas as pd\n",
    "from rapidfuzz import fuzz, process\n",
    "\n",
    "# read the calorie data drom the CSV file\n",
    "df = pd.read_csv('calories.csv') \n",
    "\n",
    "# function to perform fuzzy search on the 'FoodItem' column\n",
    "def fuzzy_find_calories(df, search_term, n=1):\n",
    "    matches = process.extract(search_term, df['FoodItem'], scorer=fuzz.token_set_ratio, limit=n)\n",
    "    first_match = matches[0] # get the first(best) match\n",
    "    food_item = first_match[0] # the food item from the first match\n",
    "    match_score = first_match[1] # the similarity score of the first match\n",
    "    index = first_match[2] # the index of the matching row in the dataframe\n",
    "\n",
    "    print(f'searched for {search_term}\\nbest match:{food_item}, {index}, {match_score}')\n",
    "\n",
    "    return food_item, index, match_score\n",
    "\n",
    "match_percent = 50 # set the default match percentage threshold\n",
    "\n",
    "while True:\n",
    "    # 1) ask the user for the food search term \n",
    "    search_term = input('Enter food item to search for: ')\n",
    "    \n",
    "\n",
    "    # 2) ask for a quality threshold (our match %), give it a default of 50. If the user just hits return, keep the existing value otherwise update it\n",
    "    new_match_percent_str = input(f'Enter quality threshold (current: {match_percent}): ')\n",
    "    if new_match_percent_str != '':\n",
    "        match_percent = float(new_match_percent_str)\n",
    "\n",
    "    # 3) search the FoodItem column in the DataFrame df for the search term with the fuzzy search\n",
    "    food_item, index, match = fuzzy_find_calories(df, search_term)\n",
    "\n",
    "    # 4) If match score exceeds the match threshold, print the food and calorie information\n",
    "    if match > match_percent:\n",
    "        row = df.iloc[index]\n",
    "        # 4).a ask the user for the weight or portion size of the food\n",
    "        weight_str = input(f'Enter the weight in grams of {row['FoodItem']}: ')\n",
    "        weight = float(weight_str) if weight_str else 100 # default to 100 grams if no input\n",
    "\n",
    "        # 4).b calculate total calories based on the portion size\n",
    "        total_calories = (float(row['Kcals_per100grams']) * weight)/100\n",
    "\n",
    "        print(f'The food {row['FoodItem']} has {total_calories} kcal for {weight} grams.')\n",
    "\n",
    "    # 5) If match score is below the threshold, notify the user\n",
    "    else:\n",
    "        print(f'match of {match} is lower than {match_percent}, no good match found!')\n",
    "\n",
    "    # 6) Finally ask the user if they want to search again. If they do, repeat the process. If not, exit the loop.\n",
    "    new_search = input('Search again?(y/n): ')\n",
    "    if new_search.lower() != 'y':\n",
    "        break\n",
    "\n"
   ]
  }
 ],
 "metadata": {
  "kernelspec": {
   "display_name": "Python 3",
   "language": "python",
   "name": "python3"
  },
  "language_info": {
   "codemirror_mode": {
    "name": "ipython",
    "version": 3
   },
   "file_extension": ".py",
   "mimetype": "text/x-python",
   "name": "python",
   "nbconvert_exporter": "python",
   "pygments_lexer": "ipython3",
   "version": "3.12.1"
  }
 },
 "nbformat": 4,
 "nbformat_minor": 2
}
