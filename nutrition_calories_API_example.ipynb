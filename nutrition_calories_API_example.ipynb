{
 "cells": [
  {
   "cell_type": "code",
   "execution_count": 15,
   "metadata": {},
   "outputs": [],
   "source": [
    "import requests\n",
    "\n",
    "def edamam_nutrition_data(food):\n",
    "    \"\"\"extracts nutrition data from the Edamam Nutrition API\n",
    "    Args:\n",
    "        food (str): the food item to get nutrition data for\n",
    "    Returns:\n",
    "        dict: a dictionary containing the nutrition data or None if the request was unsuccessful\n",
    "    \"\"\"\n",
    "    # get API app_id and app_key from keys.py\n",
    "    from keys import edamam_app_id, edamam_app_key\n",
    "     \n",
    "    api_url = \"https://api.edamam.com/api/nutrition-data\"\n",
    "\n",
    "    # Make a request to the Edamam Nutrition API\n",
    "    response = requests.get(api_url, params={\n",
    "        \"app_id\": edamam_app_id,\n",
    "        \"app_key\": edamam_app_key,\n",
    "        \"ingr\": food\n",
    "    })\n",
    "\n",
    "    food_data = {}\n",
    "\n",
    "    # Check if the request was successful\n",
    "    if response.status_code == 200:\n",
    "        data = response.json()\n",
    "        calories = data.get('calories', 0)\n",
    "        protein = data['totalNutrients'].get('PROCNT', {}).get('quantity', 0)\n",
    "        carbohydrate = data['totalNutrients'].get('CHOCDF', {}).get('quantity', 0)\n",
    "        fat = data['totalNutrients'].get('FAT', {}).get('quantity', 0)\n",
    "        sugar = data['totalNutrients'].get('SUGAR', {}).get('quantity', 0)\n",
    "        total_weight = data.get('totalWeight', 0)\n",
    "\n",
    "        # add data to a dictionary called food_data\n",
    "        # and convert values to integers\n",
    "        food_data = {\n",
    "            \"calories\": int(calories),\n",
    "            \"total_weight\": int(total_weight),\n",
    "            \"protein\": int(protein),\n",
    "            \"carbohydrate\": int(carbohydrate),\n",
    "            \"fat\": int(fat),\n",
    "            \"sugar\": int(sugar)\n",
    "        }\n",
    "        return food_data\n",
    "    else:\n",
    "        print(f\"Error: Unable to fetch data (status code: {response.status_code})\")\n",
    "        return None"
   ]
  },
  {
   "cell_type": "code",
   "execution_count": 17,
   "metadata": {},
   "outputs": [
    {
     "name": "stdout",
     "output_type": "stream",
     "text": [
      "{'calories': 115, 'total_weight': 223, 'protein': 0, 'carbohydrate': 30, 'fat': 0, 'sugar': 23}\n"
     ]
    }
   ],
   "source": [
    "# Test the function\n",
    "\n",
    "food = \"1 large apple\"\n",
    "print(edamam_nutrition_data(food))\n"
   ]
  }
 ],
 "metadata": {
  "kernelspec": {
   "display_name": "Python 3",
   "language": "python",
   "name": "python3"
  },
  "language_info": {
   "codemirror_mode": {
    "name": "ipython",
    "version": 3
   },
   "file_extension": ".py",
   "mimetype": "text/x-python",
   "name": "python",
   "nbconvert_exporter": "python",
   "pygments_lexer": "ipython3",
   "version": "3.13.0"
  }
 },
 "nbformat": 4,
 "nbformat_minor": 2
}
